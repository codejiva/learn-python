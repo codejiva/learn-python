{
 "cells": [
  {
   "cell_type": "markdown",
   "id": "57a544e2",
   "metadata": {
    "papermill": {
     "duration": 0.008463,
     "end_time": "2024-02-08T13:57:26.874714",
     "exception": false,
     "start_time": "2024-02-08T13:57:26.866251",
     "status": "completed"
    },
    "tags": []
   },
   "source": [
    "**This notebook is an exercise in the [Intro to Programming](https://www.kaggle.com/learn/intro-to-programming) course.  You can reference the tutorial at [this link](https://www.kaggle.com/alexisbcook/functions).**\n",
    "\n",
    "---\n"
   ]
  },
  {
   "cell_type": "markdown",
   "id": "cc33d9da",
   "metadata": {
    "papermill": {
     "duration": 0.007361,
     "end_time": "2024-02-08T13:57:26.890242",
     "exception": false,
     "start_time": "2024-02-08T13:57:26.882881",
     "status": "completed"
    },
    "tags": []
   },
   "source": [
    "In the tutorial, you learned about functions. In this exercise, you'll write some of your own!\n",
    "\n",
    "# Set up the notebook\n",
    "\n",
    "Run the next code cell without changes to set up the notebook."
   ]
  },
  {
   "cell_type": "code",
   "execution_count": 1,
   "id": "212a555a",
   "metadata": {
    "execution": {
     "iopub.execute_input": "2024-02-08T13:57:26.907150Z",
     "iopub.status.busy": "2024-02-08T13:57:26.906762Z",
     "iopub.status.idle": "2024-02-08T13:57:27.987359Z",
     "shell.execute_reply": "2024-02-08T13:57:27.986063Z"
    },
    "papermill": {
     "duration": 1.092414,
     "end_time": "2024-02-08T13:57:27.990352",
     "exception": false,
     "start_time": "2024-02-08T13:57:26.897938",
     "status": "completed"
    },
    "tags": []
   },
   "outputs": [
    {
     "name": "stdout",
     "output_type": "stream",
     "text": [
      "Setup complete.\n"
     ]
    }
   ],
   "source": [
    "# Set up the exercise\n",
    "import math\n",
    "from learntools.core import binder\n",
    "binder.bind(globals())\n",
    "from learntools.intro_to_programming.ex2 import *\n",
    "print('Setup complete.')"
   ]
  },
  {
   "cell_type": "markdown",
   "id": "b1217890",
   "metadata": {
    "papermill": {
     "duration": 0.007614,
     "end_time": "2024-02-08T13:57:28.005924",
     "exception": false,
     "start_time": "2024-02-08T13:57:27.998310",
     "status": "completed"
    },
    "tags": []
   },
   "source": [
    "# Question 1\n",
    "\n",
    "In the [House Prices - Advanced Regression Techniques competition](https://www.kaggle.com/c/house-prices-advanced-regression-techniques/overview), you need to use information like the number of bedrooms and bathrooms to predict the price of a house.  Inspired by this competition, you'll write your own function to do this.\n",
    "\n",
    "In the next code cell, create a function `get_expected_cost()` that has two arguments:\n",
    "- `beds` - number of bedrooms \n",
    "- `baths` - number of bathrooms\n",
    "\n",
    "It should return the expected cost of a house with that number of bedrooms and bathrooms.  Assume that:\n",
    "- the expected cost for a house with 0 bedrooms and 0 bathrooms is `80000`.  \n",
    "- each bedroom adds `30000` to the expected cost\n",
    "- each bathroom adds `10000` to the expected cost.\n",
    "\n",
    "For instance, \n",
    "- a house with 1 bedroom and 1 bathroom has an expected cost of `120000`, and \n",
    "- a house with 2 bedrooms and 1 bathroom has an expected cost of `150000`."
   ]
  },
  {
   "cell_type": "code",
   "execution_count": 2,
   "id": "665749e1",
   "metadata": {
    "execution": {
     "iopub.execute_input": "2024-02-08T13:57:28.024128Z",
     "iopub.status.busy": "2024-02-08T13:57:28.023594Z",
     "iopub.status.idle": "2024-02-08T13:57:28.034890Z",
     "shell.execute_reply": "2024-02-08T13:57:28.033780Z"
    },
    "papermill": {
     "duration": 0.02372,
     "end_time": "2024-02-08T13:57:28.037411",
     "exception": false,
     "start_time": "2024-02-08T13:57:28.013691",
     "status": "completed"
    },
    "tags": []
   },
   "outputs": [
    {
     "data": {
      "application/javascript": [
       "parent.postMessage({\"jupyterEvent\": \"custom.exercise_interaction\", \"data\": {\"outcomeType\": 1, \"valueTowardsCompletion\": 0.2, \"interactionType\": 1, \"questionType\": 2, \"questionId\": \"1_GetExpectedCost\", \"learnToolsVersion\": \"0.3.4\", \"failureMessage\": \"\", \"exceptionClass\": \"\", \"trace\": \"\"}}, \"*\")"
      ],
      "text/plain": [
       "<IPython.core.display.Javascript object>"
      ]
     },
     "metadata": {},
     "output_type": "display_data"
    },
    {
     "data": {
      "text/markdown": [
       "<span style=\"color:#33cc33\">Correct</span>"
      ],
      "text/plain": [
       "Correct"
      ]
     },
     "metadata": {},
     "output_type": "display_data"
    }
   ],
   "source": [
    "# TODO: Complete the function\n",
    "def get_expected_cost(beds, baths):\n",
    "    value = 80000 + (beds * 30000) + (baths * 10000)\n",
    "    return value\n",
    "\n",
    "# Check your answer \n",
    "q1.check()"
   ]
  },
  {
   "cell_type": "code",
   "execution_count": 3,
   "id": "91d73cd3",
   "metadata": {
    "execution": {
     "iopub.execute_input": "2024-02-08T13:57:28.055943Z",
     "iopub.status.busy": "2024-02-08T13:57:28.054964Z",
     "iopub.status.idle": "2024-02-08T13:57:28.060199Z",
     "shell.execute_reply": "2024-02-08T13:57:28.058868Z"
    },
    "papermill": {
     "duration": 0.017145,
     "end_time": "2024-02-08T13:57:28.062758",
     "exception": false,
     "start_time": "2024-02-08T13:57:28.045613",
     "status": "completed"
    },
    "tags": []
   },
   "outputs": [],
   "source": [
    "# Uncomment to see a hint\n",
    "#q1.hint()\n",
    "\n",
    "# Uncomment to view the solution\n",
    "#q1.solution()"
   ]
  },
  {
   "cell_type": "markdown",
   "id": "f42e29d7",
   "metadata": {
    "papermill": {
     "duration": 0.008189,
     "end_time": "2024-02-08T13:57:28.079321",
     "exception": false,
     "start_time": "2024-02-08T13:57:28.071132",
     "status": "completed"
    },
    "tags": []
   },
   "source": [
    "# Question 2\n",
    "\n",
    "You are thinking about buying a home and want to get an idea of how much you will spend, based on the number of bedrooms and bathrooms.  You are trying to decide between four different options:\n",
    "- Option 1: house with two bedrooms and three bathrooms\n",
    "- Option 2: house with three bedrooms and two bathrooms\n",
    "- Option 3: house with three bedrooms and three bathrooms\n",
    "- Option 4: house with three bedrooms and four bathrooms\n",
    "\n",
    "Use the `get_expected_cost()` function you defined in question 1 to set `option_1`, `option_2`, `option_3`, and `option_4` to the expected cost of each option."
   ]
  },
  {
   "cell_type": "code",
   "execution_count": 4,
   "id": "514d4cc6",
   "metadata": {
    "execution": {
     "iopub.execute_input": "2024-02-08T13:57:28.097741Z",
     "iopub.status.busy": "2024-02-08T13:57:28.097321Z",
     "iopub.status.idle": "2024-02-08T13:57:28.108760Z",
     "shell.execute_reply": "2024-02-08T13:57:28.107904Z"
    },
    "papermill": {
     "duration": 0.02376,
     "end_time": "2024-02-08T13:57:28.111362",
     "exception": false,
     "start_time": "2024-02-08T13:57:28.087602",
     "status": "completed"
    },
    "tags": []
   },
   "outputs": [
    {
     "name": "stdout",
     "output_type": "stream",
     "text": [
      "170000\n",
      "190000\n",
      "200000\n",
      "210000\n"
     ]
    },
    {
     "data": {
      "application/javascript": [
       "parent.postMessage({\"jupyterEvent\": \"custom.exercise_interaction\", \"data\": {\"outcomeType\": 1, \"valueTowardsCompletion\": 0.2, \"interactionType\": 1, \"questionType\": 1, \"questionId\": \"2_RunGetExpectedCost\", \"learnToolsVersion\": \"0.3.4\", \"failureMessage\": \"\", \"exceptionClass\": \"\", \"trace\": \"\"}}, \"*\")"
      ],
      "text/plain": [
       "<IPython.core.display.Javascript object>"
      ]
     },
     "metadata": {},
     "output_type": "display_data"
    },
    {
     "data": {
      "text/markdown": [
       "<span style=\"color:#33cc33\">Correct</span>"
      ],
      "text/plain": [
       "Correct"
      ]
     },
     "metadata": {},
     "output_type": "display_data"
    }
   ],
   "source": [
    "# TODO: Use the get_expected_cost function to fill in each value\n",
    "option_one = get_expected_cost(2, 3)\n",
    "option_two = get_expected_cost(3, 2)\n",
    "option_three = get_expected_cost(3, 3)\n",
    "option_four = get_expected_cost(3, 4)\n",
    "\n",
    "print(option_one)\n",
    "print(option_two)\n",
    "print(option_three)\n",
    "print(option_four)\n",
    "\n",
    "# Check your answer\n",
    "q2.check()"
   ]
  },
  {
   "cell_type": "code",
   "execution_count": 5,
   "id": "78f25340",
   "metadata": {
    "execution": {
     "iopub.execute_input": "2024-02-08T13:57:28.130497Z",
     "iopub.status.busy": "2024-02-08T13:57:28.130094Z",
     "iopub.status.idle": "2024-02-08T13:57:28.135280Z",
     "shell.execute_reply": "2024-02-08T13:57:28.133905Z"
    },
    "papermill": {
     "duration": 0.017543,
     "end_time": "2024-02-08T13:57:28.137698",
     "exception": false,
     "start_time": "2024-02-08T13:57:28.120155",
     "status": "completed"
    },
    "tags": []
   },
   "outputs": [],
   "source": [
    "# Uncomment to see a hint\n",
    "#q2.hint()\n",
    "\n",
    "# Uncomment to view the solution\n",
    "#q2.solution()"
   ]
  },
  {
   "cell_type": "markdown",
   "id": "0bd1a43c",
   "metadata": {
    "papermill": {
     "duration": 0.008476,
     "end_time": "2024-02-08T13:57:28.154900",
     "exception": false,
     "start_time": "2024-02-08T13:57:28.146424",
     "status": "completed"
    },
    "tags": []
   },
   "source": [
    "# Question 3\n",
    "\n",
    "You're a home decorator, and you'd like to use Python to streamline some of your work.  Specifically, you're creating a tool that you intend to use to calculate the cost of painting a room.\n",
    "\n",
    "As a first step, define a function `get_cost()` that takes as input:\n",
    "- `sqft_walls` = total square feet of walls to be painted\n",
    "- `sqft_ceiling` = square feet of ceiling to be painted\n",
    "- `sqft_per_gallon` = number of square feet that you can cover with one gallon of paint\n",
    "- `cost_per_gallon` = cost (in dollars) of one gallon of paint\n",
    "\n",
    "It should return the cost (in dollars) of putting one coat of paint on all walls and the ceiling.  Assume you can buy the exact amount of paint that you need, so you can buy partial gallons (e.g., if you need 7.523 gallons, you can buy that exact amount, instead of needing to buy 8 gallons and waste some paint).  Do not round your answer."
   ]
  },
  {
   "cell_type": "code",
   "execution_count": 6,
   "id": "828f12bf",
   "metadata": {
    "execution": {
     "iopub.execute_input": "2024-02-08T13:57:28.174666Z",
     "iopub.status.busy": "2024-02-08T13:57:28.173876Z",
     "iopub.status.idle": "2024-02-08T13:57:28.184948Z",
     "shell.execute_reply": "2024-02-08T13:57:28.183851Z"
    },
    "papermill": {
     "duration": 0.023646,
     "end_time": "2024-02-08T13:57:28.187422",
     "exception": false,
     "start_time": "2024-02-08T13:57:28.163776",
     "status": "completed"
    },
    "tags": []
   },
   "outputs": [
    {
     "data": {
      "application/javascript": [
       "parent.postMessage({\"jupyterEvent\": \"custom.exercise_interaction\", \"data\": {\"outcomeType\": 1, \"valueTowardsCompletion\": 0.2, \"interactionType\": 1, \"questionType\": 2, \"questionId\": \"3_GetCostPaint\", \"learnToolsVersion\": \"0.3.4\", \"failureMessage\": \"\", \"exceptionClass\": \"\", \"trace\": \"\"}}, \"*\")"
      ],
      "text/plain": [
       "<IPython.core.display.Javascript object>"
      ]
     },
     "metadata": {},
     "output_type": "display_data"
    },
    {
     "data": {
      "text/markdown": [
       "<span style=\"color:#33cc33\">Correct</span>"
      ],
      "text/plain": [
       "Correct"
      ]
     },
     "metadata": {},
     "output_type": "display_data"
    }
   ],
   "source": [
    "# TODO: Finish defining the function\n",
    "def get_cost(sqft_walls, sqft_ceiling, sqft_per_gallon, cost_per_gallon):\n",
    "    cost = ((sqft_walls + sqft_ceiling) / sqft_per_gallon) * cost_per_gallon\n",
    "    return cost\n",
    "\n",
    "# Check your answer\n",
    "q3.check()"
   ]
  },
  {
   "cell_type": "code",
   "execution_count": 7,
   "id": "e19189e5",
   "metadata": {
    "execution": {
     "iopub.execute_input": "2024-02-08T13:57:28.208058Z",
     "iopub.status.busy": "2024-02-08T13:57:28.207645Z",
     "iopub.status.idle": "2024-02-08T13:57:28.216691Z",
     "shell.execute_reply": "2024-02-08T13:57:28.215484Z"
    },
    "papermill": {
     "duration": 0.022843,
     "end_time": "2024-02-08T13:57:28.219238",
     "exception": false,
     "start_time": "2024-02-08T13:57:28.196395",
     "status": "completed"
    },
    "tags": []
   },
   "outputs": [
    {
     "data": {
      "application/javascript": [
       "parent.postMessage({\"jupyterEvent\": \"custom.exercise_interaction\", \"data\": {\"interactionType\": 2, \"questionType\": 2, \"questionId\": \"3_GetCostPaint\", \"learnToolsVersion\": \"0.3.4\", \"valueTowardsCompletion\": 0.0, \"failureMessage\": \"\", \"exceptionClass\": \"\", \"trace\": \"\", \"outcomeType\": 4}}, \"*\")"
      ],
      "text/plain": [
       "<IPython.core.display.Javascript object>"
      ]
     },
     "metadata": {},
     "output_type": "display_data"
    },
    {
     "data": {
      "text/markdown": [
       "<span style=\"color:#3366cc\">Hint:</span> Begin by calculating the total number of square feet that need to be painted. Then, based on that, figure out how many gallons you need.  Then, once you know how many gallons you need, you can calculate the total cost of the project."
      ],
      "text/plain": [
       "Hint: Begin by calculating the total number of square feet that need to be painted. Then, based on that, figure out how many gallons you need.  Then, once you know how many gallons you need, you can calculate the total cost of the project."
      ]
     },
     "metadata": {},
     "output_type": "display_data"
    }
   ],
   "source": [
    "# Uncomment to see a hint\n",
    "q3.hint()\n",
    "\n",
    "# Uncomment to view the solution\n",
    "#q3.solution()"
   ]
  },
  {
   "cell_type": "markdown",
   "id": "549dd18d",
   "metadata": {
    "papermill": {
     "duration": 0.009292,
     "end_time": "2024-02-08T13:57:28.237926",
     "exception": false,
     "start_time": "2024-02-08T13:57:28.228634",
     "status": "completed"
    },
    "tags": []
   },
   "source": [
    "# Question 4\n",
    "\n",
    "Use the `get_cost()` function you defined in Question 3 to calculate the cost of applying one coat of paint to a room with:\n",
    "- 432 square feet of walls, and\n",
    "- 144 square feet of ceiling.\n",
    "\n",
    "Assume that one gallon of paint covers 400 square feet and costs $15.  As in Question 3, assume you can buy partial gallons of paint.  Do not round your answer."
   ]
  },
  {
   "cell_type": "code",
   "execution_count": 8,
   "id": "8ae41620",
   "metadata": {
    "execution": {
     "iopub.execute_input": "2024-02-08T13:57:28.259518Z",
     "iopub.status.busy": "2024-02-08T13:57:28.259134Z",
     "iopub.status.idle": "2024-02-08T13:57:28.269697Z",
     "shell.execute_reply": "2024-02-08T13:57:28.268256Z"
    },
    "papermill": {
     "duration": 0.024282,
     "end_time": "2024-02-08T13:57:28.272313",
     "exception": false,
     "start_time": "2024-02-08T13:57:28.248031",
     "status": "completed"
    },
    "tags": []
   },
   "outputs": [
    {
     "data": {
      "application/javascript": [
       "parent.postMessage({\"jupyterEvent\": \"custom.exercise_interaction\", \"data\": {\"outcomeType\": 1, \"valueTowardsCompletion\": 0.2, \"interactionType\": 1, \"questionType\": 1, \"questionId\": \"4_GetCostPaintExample\", \"learnToolsVersion\": \"0.3.4\", \"failureMessage\": \"\", \"exceptionClass\": \"\", \"trace\": \"\"}}, \"*\")"
      ],
      "text/plain": [
       "<IPython.core.display.Javascript object>"
      ]
     },
     "metadata": {},
     "output_type": "display_data"
    },
    {
     "data": {
      "text/markdown": [
       "<span style=\"color:#33cc33\">Correct</span>"
      ],
      "text/plain": [
       "Correct"
      ]
     },
     "metadata": {},
     "output_type": "display_data"
    }
   ],
   "source": [
    "# TODO: Set the project_cost variable to the cost of the project\n",
    "project_cost = get_cost(432, 144, 400, 15)\n",
    "\n",
    "# Check your answer\n",
    "q4.check()"
   ]
  },
  {
   "cell_type": "code",
   "execution_count": 9,
   "id": "e1d34543",
   "metadata": {
    "execution": {
     "iopub.execute_input": "2024-02-08T13:57:28.293860Z",
     "iopub.status.busy": "2024-02-08T13:57:28.293430Z",
     "iopub.status.idle": "2024-02-08T13:57:28.298579Z",
     "shell.execute_reply": "2024-02-08T13:57:28.297368Z"
    },
    "papermill": {
     "duration": 0.019106,
     "end_time": "2024-02-08T13:57:28.301313",
     "exception": false,
     "start_time": "2024-02-08T13:57:28.282207",
     "status": "completed"
    },
    "tags": []
   },
   "outputs": [],
   "source": [
    "# Uncomment to see a hint\n",
    "#q4.hint()\n",
    "\n",
    "# Uncomment to view the solution\n",
    "#q4.solution()"
   ]
  },
  {
   "cell_type": "markdown",
   "id": "3604ba14",
   "metadata": {
    "papermill": {
     "duration": 0.010244,
     "end_time": "2024-02-08T13:57:28.322059",
     "exception": false,
     "start_time": "2024-02-08T13:57:28.311815",
     "status": "completed"
    },
    "tags": []
   },
   "source": [
    "# 🌶️ Question 5\n",
    "\n",
    "Now say you can no longer buy fractions of a gallon.  (For instance, if you need 4.3 gallons to do a project, then you have to buy 5 gallons of paint.)\n",
    "\n",
    "With this new scenario, you will create a new function `get_actual_cost` that uses the same inputs and calculates the cost of your project.\n",
    "\n",
    "One function that you'll need to use to do this is `math.ceil()`.  We demonstrate usage of this function in the code cell below.  It takes as a number as input and rounds the number up to the nearest integer.  \n",
    "\n",
    "Run the next code cell to test this function for yourself.  Feel free to change the value of `test_value` and make sure `math.ceil()` returns the number you expect."
   ]
  },
  {
   "cell_type": "code",
   "execution_count": 10,
   "id": "a2b24e29",
   "metadata": {
    "execution": {
     "iopub.execute_input": "2024-02-08T13:57:28.344351Z",
     "iopub.status.busy": "2024-02-08T13:57:28.343831Z",
     "iopub.status.idle": "2024-02-08T13:57:28.350936Z",
     "shell.execute_reply": "2024-02-08T13:57:28.349652Z"
    },
    "papermill": {
     "duration": 0.021618,
     "end_time": "2024-02-08T13:57:28.353630",
     "exception": false,
     "start_time": "2024-02-08T13:57:28.332012",
     "status": "completed"
    },
    "tags": []
   },
   "outputs": [
    {
     "name": "stdout",
     "output_type": "stream",
     "text": [
      "3\n"
     ]
    }
   ],
   "source": [
    "test_value = 2.17\n",
    "\n",
    "rounded_value = math.ceil(test_value)\n",
    "print(rounded_value)"
   ]
  },
  {
   "cell_type": "markdown",
   "id": "7705c901",
   "metadata": {
    "papermill": {
     "duration": 0.010709,
     "end_time": "2024-02-08T13:57:28.374935",
     "exception": false,
     "start_time": "2024-02-08T13:57:28.364226",
     "status": "completed"
    },
    "tags": []
   },
   "source": [
    "Use the next code cell to define the function `get_actual_cost()`.  You'll need to use the `math.ceil()` function to do this.\n",
    "\n",
    "When answering this question, note that it's completely valid to define a function that makes use of another function.  For instance, we can define a function `round_up_and_divide_by_three` that makes use of the `math.ceil` function:\n",
    "```\n",
    "def round_up_and_divide_by_three(num):\n",
    "    new_value = math.ceil(num)\n",
    "    final_value = new_value / 3\n",
    "    return final_value\n",
    "```"
   ]
  },
  {
   "cell_type": "code",
   "execution_count": 11,
   "id": "2ce060ab",
   "metadata": {
    "execution": {
     "iopub.execute_input": "2024-02-08T13:57:28.397922Z",
     "iopub.status.busy": "2024-02-08T13:57:28.397469Z",
     "iopub.status.idle": "2024-02-08T13:57:28.407588Z",
     "shell.execute_reply": "2024-02-08T13:57:28.406690Z"
    },
    "papermill": {
     "duration": 0.024381,
     "end_time": "2024-02-08T13:57:28.409862",
     "exception": false,
     "start_time": "2024-02-08T13:57:28.385481",
     "status": "completed"
    },
    "tags": []
   },
   "outputs": [
    {
     "data": {
      "application/javascript": [
       "parent.postMessage({\"jupyterEvent\": \"custom.exercise_interaction\", \"data\": {\"outcomeType\": 1, \"valueTowardsCompletion\": 0.2, \"interactionType\": 1, \"questionType\": 2, \"questionId\": \"5_NoMoreFractions\", \"learnToolsVersion\": \"0.3.4\", \"failureMessage\": \"\", \"exceptionClass\": \"\", \"trace\": \"\"}}, \"*\")"
      ],
      "text/plain": [
       "<IPython.core.display.Javascript object>"
      ]
     },
     "metadata": {},
     "output_type": "display_data"
    },
    {
     "data": {
      "text/markdown": [
       "<span style=\"color:#33cc33\">Correct</span>"
      ],
      "text/plain": [
       "Correct"
      ]
     },
     "metadata": {},
     "output_type": "display_data"
    }
   ],
   "source": [
    "def get_actual_cost(sqft_walls, sqft_ceiling, sqft_per_gallon, cost_per_gallon):\n",
    "    cost = math.ceil((sqft_walls + sqft_ceiling) / sqft_per_gallon) * cost_per_gallon\n",
    "    return cost\n",
    "\n",
    "# Check your answer\n",
    "q5.check()"
   ]
  },
  {
   "cell_type": "code",
   "execution_count": 12,
   "id": "cdb58075",
   "metadata": {
    "execution": {
     "iopub.execute_input": "2024-02-08T13:57:28.433196Z",
     "iopub.status.busy": "2024-02-08T13:57:28.432788Z",
     "iopub.status.idle": "2024-02-08T13:57:28.438471Z",
     "shell.execute_reply": "2024-02-08T13:57:28.437046Z"
    },
    "papermill": {
     "duration": 0.020923,
     "end_time": "2024-02-08T13:57:28.441094",
     "exception": false,
     "start_time": "2024-02-08T13:57:28.420171",
     "status": "completed"
    },
    "tags": []
   },
   "outputs": [],
   "source": [
    "# Uncomment to see a hint\n",
    "#q5.hint()\n",
    "\n",
    "# Uncomment to view the solution\n",
    "#q5.solution()"
   ]
  },
  {
   "cell_type": "markdown",
   "id": "dcad6a24",
   "metadata": {
    "papermill": {
     "duration": 0.010181,
     "end_time": "2024-02-08T13:57:28.462939",
     "exception": false,
     "start_time": "2024-02-08T13:57:28.452758",
     "status": "completed"
    },
    "tags": []
   },
   "source": [
    "Once your function is verified as correct, run the next code cell to calculate the updated cost of your project."
   ]
  },
  {
   "cell_type": "code",
   "execution_count": 13,
   "id": "403ead40",
   "metadata": {
    "execution": {
     "iopub.execute_input": "2024-02-08T13:57:28.485595Z",
     "iopub.status.busy": "2024-02-08T13:57:28.485207Z",
     "iopub.status.idle": "2024-02-08T13:57:28.492374Z",
     "shell.execute_reply": "2024-02-08T13:57:28.491067Z"
    },
    "papermill": {
     "duration": 0.02156,
     "end_time": "2024-02-08T13:57:28.494992",
     "exception": false,
     "start_time": "2024-02-08T13:57:28.473432",
     "status": "completed"
    },
    "tags": []
   },
   "outputs": [
    {
     "data": {
      "text/plain": [
       "30"
      ]
     },
     "execution_count": 13,
     "metadata": {},
     "output_type": "execute_result"
    }
   ],
   "source": [
    "get_actual_cost(432, 144, 400, 15) "
   ]
  },
  {
   "cell_type": "markdown",
   "id": "a27155a8",
   "metadata": {
    "papermill": {
     "duration": 0.010531,
     "end_time": "2024-02-08T13:57:28.516042",
     "exception": false,
     "start_time": "2024-02-08T13:57:28.505511",
     "status": "completed"
    },
    "tags": []
   },
   "source": [
    "Say you're working with a slightly larger room.  Run the next code cell to calculate the cost of the project."
   ]
  },
  {
   "cell_type": "code",
   "execution_count": 14,
   "id": "da9ee2b5",
   "metadata": {
    "execution": {
     "iopub.execute_input": "2024-02-08T13:57:28.539193Z",
     "iopub.status.busy": "2024-02-08T13:57:28.538726Z",
     "iopub.status.idle": "2024-02-08T13:57:28.546583Z",
     "shell.execute_reply": "2024-02-08T13:57:28.545492Z"
    },
    "papermill": {
     "duration": 0.022385,
     "end_time": "2024-02-08T13:57:28.549094",
     "exception": false,
     "start_time": "2024-02-08T13:57:28.526709",
     "status": "completed"
    },
    "tags": []
   },
   "outputs": [
    {
     "data": {
      "text/plain": [
       "45"
      ]
     },
     "execution_count": 14,
     "metadata": {},
     "output_type": "execute_result"
    }
   ],
   "source": [
    "get_actual_cost(594, 288, 400, 15) "
   ]
  },
  {
   "cell_type": "markdown",
   "id": "87275d4a",
   "metadata": {
    "papermill": {
     "duration": 0.010447,
     "end_time": "2024-02-08T13:57:28.570102",
     "exception": false,
     "start_time": "2024-02-08T13:57:28.559655",
     "status": "completed"
    },
    "tags": []
   },
   "source": [
    "# Keep going\n",
    "\n",
    "Continue to learn about **[data types](https://www.kaggle.com/alexisbcook/data-types)**."
   ]
  },
  {
   "cell_type": "markdown",
   "id": "2c98f1f9",
   "metadata": {
    "papermill": {
     "duration": 0.010175,
     "end_time": "2024-02-08T13:57:28.590778",
     "exception": false,
     "start_time": "2024-02-08T13:57:28.580603",
     "status": "completed"
    },
    "tags": []
   },
   "source": [
    "---\n",
    "\n",
    "\n",
    "\n",
    "\n",
    "*Have questions or comments? Visit the [course discussion forum](https://www.kaggle.com/learn/intro-to-programming/discussion) to chat with other learners.*"
   ]
  }
 ],
 "metadata": {
  "kaggle": {
   "accelerator": "none",
   "dataSources": [],
   "isGpuEnabled": false,
   "isInternetEnabled": false,
   "language": "python",
   "sourceType": "notebook"
  },
  "kernelspec": {
   "display_name": "Python 3",
   "language": "python",
   "name": "python3"
  },
  "language_info": {
   "codemirror_mode": {
    "name": "ipython",
    "version": 3
   },
   "file_extension": ".py",
   "mimetype": "text/x-python",
   "name": "python",
   "nbconvert_exporter": "python",
   "pygments_lexer": "ipython3",
   "version": "3.10.13"
  },
  "papermill": {
   "default_parameters": {},
   "duration": 5.521462,
   "end_time": "2024-02-08T13:57:29.124110",
   "environment_variables": {},
   "exception": null,
   "input_path": "__notebook__.ipynb",
   "output_path": "__notebook__.ipynb",
   "parameters": {},
   "start_time": "2024-02-08T13:57:23.602648",
   "version": "2.5.0"
  }
 },
 "nbformat": 4,
 "nbformat_minor": 5
}
