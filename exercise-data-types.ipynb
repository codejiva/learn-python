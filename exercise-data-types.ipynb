{
 "cells": [
  {
   "cell_type": "markdown",
   "id": "143c0a53",
   "metadata": {
    "papermill": {
     "duration": 0.009772,
     "end_time": "2024-02-08T15:08:07.944509",
     "exception": false,
     "start_time": "2024-02-08T15:08:07.934737",
     "status": "completed"
    },
    "tags": []
   },
   "source": [
    "**This notebook is an exercise in the [Intro to Programming](https://www.kaggle.com/learn/intro-to-programming) course.  You can reference the tutorial at [this link](https://www.kaggle.com/alexisbcook/data-types).**\n",
    "\n",
    "---\n"
   ]
  },
  {
   "cell_type": "markdown",
   "id": "57e40f2d",
   "metadata": {
    "papermill": {
     "duration": 0.008668,
     "end_time": "2024-02-08T15:08:07.962785",
     "exception": false,
     "start_time": "2024-02-08T15:08:07.954117",
     "status": "completed"
    },
    "tags": []
   },
   "source": [
    "In the tutorial, you learned about four different data types: floats, integers, strings, and booleans.  In this exercise, you'll experiment with them.\n",
    "\n",
    "# Set up the notebook\n",
    "\n",
    "Run the next code cell without changes to set up the notebook."
   ]
  },
  {
   "cell_type": "code",
   "execution_count": 1,
   "id": "88aef416",
   "metadata": {
    "execution": {
     "iopub.execute_input": "2024-02-08T15:08:07.982810Z",
     "iopub.status.busy": "2024-02-08T15:08:07.982287Z",
     "iopub.status.idle": "2024-02-08T15:08:09.100305Z",
     "shell.execute_reply": "2024-02-08T15:08:09.098597Z"
    },
    "papermill": {
     "duration": 1.131847,
     "end_time": "2024-02-08T15:08:09.103546",
     "exception": false,
     "start_time": "2024-02-08T15:08:07.971699",
     "status": "completed"
    },
    "tags": []
   },
   "outputs": [
    {
     "name": "stdout",
     "output_type": "stream",
     "text": [
      "Setup complete.\n"
     ]
    }
   ],
   "source": [
    "# Set up the exercise\n",
    "from learntools.core import binder\n",
    "import math\n",
    "binder.bind(globals())\n",
    "from learntools.intro_to_programming.ex3 import *\n",
    "print('Setup complete.')"
   ]
  },
  {
   "cell_type": "markdown",
   "id": "6cb17d79",
   "metadata": {
    "papermill": {
     "duration": 0.009498,
     "end_time": "2024-02-08T15:08:09.122997",
     "exception": false,
     "start_time": "2024-02-08T15:08:09.113499",
     "status": "completed"
    },
    "tags": []
   },
   "source": [
    "# Question 1\n",
    "\n",
    "You have seen how to convert a float to an integer with the `int` function.  Try this out yourself by running the code cell below."
   ]
  },
  {
   "cell_type": "code",
   "execution_count": 2,
   "id": "5280725e",
   "metadata": {
    "execution": {
     "iopub.execute_input": "2024-02-08T15:08:09.146162Z",
     "iopub.status.busy": "2024-02-08T15:08:09.145210Z",
     "iopub.status.idle": "2024-02-08T15:08:09.153374Z",
     "shell.execute_reply": "2024-02-08T15:08:09.152233Z"
    },
    "papermill": {
     "duration": 0.023178,
     "end_time": "2024-02-08T15:08:09.156076",
     "exception": false,
     "start_time": "2024-02-08T15:08:09.132898",
     "status": "completed"
    },
    "tags": []
   },
   "outputs": [
    {
     "name": "stdout",
     "output_type": "stream",
     "text": [
      "1.0\n",
      "<class 'float'>\n",
      "1\n",
      "<class 'int'>\n"
     ]
    }
   ],
   "source": [
    "# Define a float\n",
    "y = 1.\n",
    "print(y)\n",
    "print(type(y))\n",
    "\n",
    "# Convert float to integer with the int function\n",
    "z = int(y)\n",
    "print(z)\n",
    "print(type(z))"
   ]
  },
  {
   "cell_type": "markdown",
   "id": "6d830a3e",
   "metadata": {
    "papermill": {
     "duration": 0.009052,
     "end_time": "2024-02-08T15:08:09.175076",
     "exception": false,
     "start_time": "2024-02-08T15:08:09.166024",
     "status": "completed"
    },
    "tags": []
   },
   "source": [
    "In this case, the float you are using has no numbers after the decimal.  \n",
    "- But what happens when you try to convert a float with a fractional part to an integer?  \n",
    "- How does the outcome of the `int` function change for positive and negative numbers?\n",
    "\n",
    "Use the next code cell to investigate and answer these questions.  Feel free to add or remove any lines of code -- it is your workspace!"
   ]
  },
  {
   "cell_type": "code",
   "execution_count": 3,
   "id": "abf7da9e",
   "metadata": {
    "execution": {
     "iopub.execute_input": "2024-02-08T15:08:09.196698Z",
     "iopub.status.busy": "2024-02-08T15:08:09.196224Z",
     "iopub.status.idle": "2024-02-08T15:08:09.203788Z",
     "shell.execute_reply": "2024-02-08T15:08:09.202432Z"
    },
    "papermill": {
     "duration": 0.02283,
     "end_time": "2024-02-08T15:08:09.207600",
     "exception": false,
     "start_time": "2024-02-08T15:08:09.184770",
     "status": "completed"
    },
    "tags": []
   },
   "outputs": [
    {
     "name": "stdout",
     "output_type": "stream",
     "text": [
      "1.2321\n",
      "1.747\n",
      "-3\n",
      "-2\n"
     ]
    }
   ],
   "source": [
    "# Uncomment and run this code to get started!\n",
    "print(float(1.2321))\n",
    "print(float(1.747))\n",
    "print(math.ceil(int(-3.94535)))\n",
    "print(int(-2.19774))"
   ]
  },
  {
   "cell_type": "markdown",
   "id": "bcd41880",
   "metadata": {
    "papermill": {
     "duration": 0.009305,
     "end_time": "2024-02-08T15:08:09.226493",
     "exception": false,
     "start_time": "2024-02-08T15:08:09.217188",
     "status": "completed"
    },
    "tags": []
   },
   "source": [
    "Once you have an answer, run the code cell below to see the solution.  Viewing the solution will give you credit for answering the problem."
   ]
  },
  {
   "cell_type": "code",
   "execution_count": 4,
   "id": "8560c7f8",
   "metadata": {
    "execution": {
     "iopub.execute_input": "2024-02-08T15:08:09.249026Z",
     "iopub.status.busy": "2024-02-08T15:08:09.247663Z",
     "iopub.status.idle": "2024-02-08T15:08:09.257796Z",
     "shell.execute_reply": "2024-02-08T15:08:09.256901Z"
    },
    "papermill": {
     "duration": 0.023902,
     "end_time": "2024-02-08T15:08:09.260585",
     "exception": false,
     "start_time": "2024-02-08T15:08:09.236683",
     "status": "completed"
    },
    "tags": []
   },
   "outputs": [
    {
     "data": {
      "application/javascript": [
       "parent.postMessage({\"jupyterEvent\": \"custom.exercise_interaction\", \"data\": {\"outcomeType\": 1, \"valueTowardsCompletion\": 0.2, \"interactionType\": 1, \"questionType\": 4, \"questionId\": \"1_FloatToInt\", \"learnToolsVersion\": \"0.3.4\", \"failureMessage\": \"\", \"exceptionClass\": \"\", \"trace\": \"\"}}, \"*\")"
      ],
      "text/plain": [
       "<IPython.core.display.Javascript object>"
      ]
     },
     "metadata": {},
     "output_type": "display_data"
    },
    {
     "data": {
      "text/markdown": [
       "<span style=\"color:#33cc33\">Correct:</span> \n",
       "\n",
       "Negative floats are always rounded UP to the closest integer (for instance, both -1.1 and -1.9 are rounded up to -1). Positive floats are always rounded DOWN to the closest integer (for instance, 2.1 and 2.9 are rounded down to 2)."
      ],
      "text/plain": [
       "Correct: \n",
       "\n",
       "Negative floats are always rounded UP to the closest integer (for instance, both -1.1 and -1.9 are rounded up to -1). Positive floats are always rounded DOWN to the closest integer (for instance, 2.1 and 2.9 are rounded down to 2)."
      ]
     },
     "metadata": {},
     "output_type": "display_data"
    }
   ],
   "source": [
    "# Check your answer (Run this code cell to receive credit!)\n",
    "q1.check()"
   ]
  },
  {
   "cell_type": "markdown",
   "id": "faf5579b",
   "metadata": {
    "papermill": {
     "duration": 0.009442,
     "end_time": "2024-02-08T15:08:09.281252",
     "exception": false,
     "start_time": "2024-02-08T15:08:09.271810",
     "status": "completed"
    },
    "tags": []
   },
   "source": [
    "# Question 2\n",
    "\n",
    "In the tutorial, you learned about booleans (which can take a value of `True` or `False`), in addition to integers, floats, and strings.  For this question, your goal is to determine what happens when you multiply a boolean by any of these data types.  Specifically, \n",
    "- What happens when you multiply an integer or float by `True`?  What happens when you multiply them by `False`?  How does the answer change if the numbers are positive or negative?\n",
    "- What happens when you multiply a string by `True`?  By `False`?\n",
    "\n",
    "Use the next code cell for your investigation. "
   ]
  },
  {
   "cell_type": "code",
   "execution_count": 5,
   "id": "956bd502",
   "metadata": {
    "execution": {
     "iopub.execute_input": "2024-02-08T15:08:09.305929Z",
     "iopub.status.busy": "2024-02-08T15:08:09.305043Z",
     "iopub.status.idle": "2024-02-08T15:08:09.313452Z",
     "shell.execute_reply": "2024-02-08T15:08:09.311869Z"
    },
    "papermill": {
     "duration": 0.025362,
     "end_time": "2024-02-08T15:08:09.316769",
     "exception": false,
     "start_time": "2024-02-08T15:08:09.291407",
     "status": "completed"
    },
    "tags": []
   },
   "outputs": [
    {
     "name": "stdout",
     "output_type": "stream",
     "text": [
      "3\n",
      "-3.1\n",
      "<class 'str'>\n",
      "0\n"
     ]
    }
   ],
   "source": [
    "# Uncomment and run this code to get started!\n",
    "print(3 * True)\n",
    "print(-3.1 * True)\n",
    "print(type(\"abc\" * False))\n",
    "print(len(\"abc\" * False))"
   ]
  },
  {
   "cell_type": "markdown",
   "id": "500a5eb8",
   "metadata": {
    "papermill": {
     "duration": 0.00947,
     "end_time": "2024-02-08T15:08:09.338032",
     "exception": false,
     "start_time": "2024-02-08T15:08:09.328562",
     "status": "completed"
    },
    "tags": []
   },
   "source": [
    "Once you have an answer, run the code cell below to see the solution.  Viewing the solution will give you credit for answering the problem."
   ]
  },
  {
   "cell_type": "code",
   "execution_count": 6,
   "id": "e77fda77",
   "metadata": {
    "execution": {
     "iopub.execute_input": "2024-02-08T15:08:09.362174Z",
     "iopub.status.busy": "2024-02-08T15:08:09.361404Z",
     "iopub.status.idle": "2024-02-08T15:08:09.372093Z",
     "shell.execute_reply": "2024-02-08T15:08:09.370774Z"
    },
    "papermill": {
     "duration": 0.02713,
     "end_time": "2024-02-08T15:08:09.375492",
     "exception": false,
     "start_time": "2024-02-08T15:08:09.348362",
     "status": "completed"
    },
    "tags": []
   },
   "outputs": [
    {
     "data": {
      "application/javascript": [
       "parent.postMessage({\"jupyterEvent\": \"custom.exercise_interaction\", \"data\": {\"outcomeType\": 1, \"valueTowardsCompletion\": 0.2, \"interactionType\": 1, \"questionType\": 4, \"questionId\": \"2_MultiplyBooleans\", \"learnToolsVersion\": \"0.3.4\", \"failureMessage\": \"\", \"exceptionClass\": \"\", \"trace\": \"\"}}, \"*\")"
      ],
      "text/plain": [
       "<IPython.core.display.Javascript object>"
      ]
     },
     "metadata": {},
     "output_type": "display_data"
    },
    {
     "data": {
      "text/markdown": [
       "<span style=\"color:#33cc33\">Correct:</span> \n",
       "\n",
       "When you multiple an integer or float by a boolean with value `True`, it just returns that same integer or float (and is equivalent to multiplying by 1).  If you multiply an integer or float by a boolean with value `False`, it always returns 0.  This is true for both positive and negative numbers.  If you multiply a string by a boolean with value `True`, it just returns that same string.  And if you multiply a string by a boolean with value `False`, it returns an empty string (or a string with length zero)."
      ],
      "text/plain": [
       "Correct: \n",
       "\n",
       "When you multiple an integer or float by a boolean with value `True`, it just returns that same integer or float (and is equivalent to multiplying by 1).  If you multiply an integer or float by a boolean with value `False`, it always returns 0.  This is true for both positive and negative numbers.  If you multiply a string by a boolean with value `True`, it just returns that same string.  And if you multiply a string by a boolean with value `False`, it returns an empty string (or a string with length zero)."
      ]
     },
     "metadata": {},
     "output_type": "display_data"
    }
   ],
   "source": [
    "# Check your answer (Run this code cell to receive credit!)\n",
    "q2.check()"
   ]
  },
  {
   "cell_type": "markdown",
   "id": "df09e417",
   "metadata": {
    "papermill": {
     "duration": 0.010837,
     "end_time": "2024-02-08T15:08:09.397241",
     "exception": false,
     "start_time": "2024-02-08T15:08:09.386404",
     "status": "completed"
    },
    "tags": []
   },
   "source": [
    "# Question 3\n",
    "\n",
    "In this question, you will build off your work from the previous exercise to write a function that estimates the value of a house.\n",
    "\n",
    "Use the next code cell to create a function `get_expected_cost` that takes as input three variables:\n",
    "- `beds` - number of bedrooms (data type float)\n",
    "- `baths` - number of bathrooms (data type float)\n",
    "- `has_basement` - whether or not the house has a basement (data type boolean)\n",
    "\n",
    "It should return the expected cost of a house with those characteristics. Assume that:\n",
    "- the expected cost for a house with 0 bedrooms and 0 bathrooms, and no basement is 80000, \n",
    "- each bedroom adds 30000 to the expected cost,\n",
    "- each bathroom adds 10000 to the expected cost, and\n",
    "- a basement adds 40000 to the expected cost.\n",
    "\n",
    "For instance,\n",
    "- a house with 1 bedroom, 1 bathroom, and no basement has an expected cost of 80000 + 30000 + 10000 = 120000.  This value will be calculated with `get_expected_cost(1, 1, False)`.\n",
    "- a house with 2 bedrooms, 1 bathroom, and a basement has an expected cost of 80000 + 2*30000 + 10000 + 40000 = 190000.  This value will be calculated with `get_expected_cost(2, 1, True)`.\n",
    "\n",
    "Remember you can always get a hint by uncommenting `q3.hint()` in the code cell following the next!"
   ]
  },
  {
   "cell_type": "code",
   "execution_count": 7,
   "id": "ee64e7f7",
   "metadata": {
    "execution": {
     "iopub.execute_input": "2024-02-08T15:08:09.423574Z",
     "iopub.status.busy": "2024-02-08T15:08:09.423094Z",
     "iopub.status.idle": "2024-02-08T15:08:09.434385Z",
     "shell.execute_reply": "2024-02-08T15:08:09.432837Z"
    },
    "papermill": {
     "duration": 0.030281,
     "end_time": "2024-02-08T15:08:09.438400",
     "exception": false,
     "start_time": "2024-02-08T15:08:09.408119",
     "status": "completed"
    },
    "tags": []
   },
   "outputs": [
    {
     "data": {
      "application/javascript": [
       "parent.postMessage({\"jupyterEvent\": \"custom.exercise_interaction\", \"data\": {\"outcomeType\": 1, \"valueTowardsCompletion\": 0.2, \"interactionType\": 1, \"questionType\": 2, \"questionId\": \"3_EstimateHouseValueBool\", \"learnToolsVersion\": \"0.3.4\", \"failureMessage\": \"\", \"exceptionClass\": \"\", \"trace\": \"\"}}, \"*\")"
      ],
      "text/plain": [
       "<IPython.core.display.Javascript object>"
      ]
     },
     "metadata": {},
     "output_type": "display_data"
    },
    {
     "data": {
      "text/markdown": [
       "<span style=\"color:#33cc33\">Correct</span>"
      ],
      "text/plain": [
       "Correct"
      ]
     },
     "metadata": {},
     "output_type": "display_data"
    }
   ],
   "source": [
    "# TODO: Complete the function\n",
    "def get_expected_cost(beds, baths, has_basement):\n",
    "    \n",
    "    value = 80000 + float(beds*30000 + baths*10000) + (has_basement * 40000)\n",
    "    return value\n",
    "\n",
    "# Check your answer \n",
    "q3.check()"
   ]
  },
  {
   "cell_type": "code",
   "execution_count": 8,
   "id": "68a3c32d",
   "metadata": {
    "execution": {
     "iopub.execute_input": "2024-02-08T15:08:09.463723Z",
     "iopub.status.busy": "2024-02-08T15:08:09.463270Z",
     "iopub.status.idle": "2024-02-08T15:08:09.471994Z",
     "shell.execute_reply": "2024-02-08T15:08:09.470899Z"
    },
    "papermill": {
     "duration": 0.025086,
     "end_time": "2024-02-08T15:08:09.475013",
     "exception": false,
     "start_time": "2024-02-08T15:08:09.449927",
     "status": "completed"
    },
    "tags": []
   },
   "outputs": [
    {
     "data": {
      "application/javascript": [
       "parent.postMessage({\"jupyterEvent\": \"custom.exercise_interaction\", \"data\": {\"interactionType\": 2, \"questionType\": 2, \"questionId\": \"3_EstimateHouseValueBool\", \"learnToolsVersion\": \"0.3.4\", \"valueTowardsCompletion\": 0.0, \"failureMessage\": \"\", \"exceptionClass\": \"\", \"trace\": \"\", \"outcomeType\": 4}}, \"*\")"
      ],
      "text/plain": [
       "<IPython.core.display.Javascript object>"
      ]
     },
     "metadata": {},
     "output_type": "display_data"
    },
    {
     "data": {
      "text/markdown": [
       "<span style=\"color:#3366cc\">Hint:</span> The variable `has_basement` is either `True` or `False`.  What happens when you multiply it by 40000 (the value of a basement)?  Refer to the previous question if you are unsure."
      ],
      "text/plain": [
       "Hint: The variable `has_basement` is either `True` or `False`.  What happens when you multiply it by 40000 (the value of a basement)?  Refer to the previous question if you are unsure."
      ]
     },
     "metadata": {},
     "output_type": "display_data"
    }
   ],
   "source": [
    "# Uncomment to see a hint\n",
    "q3.hint()\n",
    "\n",
    "# Uncomment to view the solution\n",
    "#q3.solution()"
   ]
  },
  {
   "cell_type": "markdown",
   "id": "1b92a66a",
   "metadata": {
    "papermill": {
     "duration": 0.011284,
     "end_time": "2024-02-08T15:08:09.498965",
     "exception": false,
     "start_time": "2024-02-08T15:08:09.487681",
     "status": "completed"
    },
    "tags": []
   },
   "source": [
    "# Question 4\n",
    "\n",
    "We'll continue our study of boolean arithmetic.  For this question, your task is to provide a description of what happpens when you add booleans. \n",
    "\n",
    "Use the next code cell for your investigation.  Feel free to add or remove any lines of code - use it as your workspace!"
   ]
  },
  {
   "cell_type": "code",
   "execution_count": 9,
   "id": "2d508ab4",
   "metadata": {
    "execution": {
     "iopub.execute_input": "2024-02-08T15:08:09.527831Z",
     "iopub.status.busy": "2024-02-08T15:08:09.526009Z",
     "iopub.status.idle": "2024-02-08T15:08:09.535655Z",
     "shell.execute_reply": "2024-02-08T15:08:09.533565Z"
    },
    "papermill": {
     "duration": 0.026658,
     "end_time": "2024-02-08T15:08:09.538762",
     "exception": false,
     "start_time": "2024-02-08T15:08:09.512104",
     "status": "completed"
    },
    "tags": []
   },
   "outputs": [
    {
     "name": "stdout",
     "output_type": "stream",
     "text": [
      "0\n",
      "1\n",
      "1\n",
      "2\n",
      "3\n"
     ]
    }
   ],
   "source": [
    "print(False + False)\n",
    "print(True + False)\n",
    "print(False + True)\n",
    "print(True + True)\n",
    "print(False + True + True + True)"
   ]
  },
  {
   "cell_type": "markdown",
   "id": "bc4f986a",
   "metadata": {
    "papermill": {
     "duration": 0.011505,
     "end_time": "2024-02-08T15:08:09.563885",
     "exception": false,
     "start_time": "2024-02-08T15:08:09.552380",
     "status": "completed"
    },
    "tags": []
   },
   "source": [
    "Once you have an answer, run the code cell below to see the solution.  Viewing the solution will give you credit for answering the problem."
   ]
  },
  {
   "cell_type": "code",
   "execution_count": 10,
   "id": "f4f80369",
   "metadata": {
    "execution": {
     "iopub.execute_input": "2024-02-08T15:08:09.592875Z",
     "iopub.status.busy": "2024-02-08T15:08:09.591224Z",
     "iopub.status.idle": "2024-02-08T15:08:09.602730Z",
     "shell.execute_reply": "2024-02-08T15:08:09.601354Z"
    },
    "papermill": {
     "duration": 0.028403,
     "end_time": "2024-02-08T15:08:09.605480",
     "exception": false,
     "start_time": "2024-02-08T15:08:09.577077",
     "status": "completed"
    },
    "tags": []
   },
   "outputs": [
    {
     "data": {
      "application/javascript": [
       "parent.postMessage({\"jupyterEvent\": \"custom.exercise_interaction\", \"data\": {\"outcomeType\": 1, \"valueTowardsCompletion\": 0.2, \"interactionType\": 1, \"questionType\": 4, \"questionId\": \"4_AddingBooleans\", \"learnToolsVersion\": \"0.3.4\", \"failureMessage\": \"\", \"exceptionClass\": \"\", \"trace\": \"\"}}, \"*\")"
      ],
      "text/plain": [
       "<IPython.core.display.Javascript object>"
      ]
     },
     "metadata": {},
     "output_type": "display_data"
    },
    {
     "data": {
      "text/markdown": [
       "<span style=\"color:#33cc33\">Correct:</span> \n",
       "\n",
       "When you add booleans, adding `False` is equivalent to adding 0, and adding `True` is equivalent to adding 1."
      ],
      "text/plain": [
       "Correct: \n",
       "\n",
       "When you add booleans, adding `False` is equivalent to adding 0, and adding `True` is equivalent to adding 1."
      ]
     },
     "metadata": {},
     "output_type": "display_data"
    }
   ],
   "source": [
    "# Check your answer (Run this code cell to receive credit!)\n",
    "q4.check()"
   ]
  },
  {
   "cell_type": "markdown",
   "id": "ab1ae16b",
   "metadata": {
    "papermill": {
     "duration": 0.011428,
     "end_time": "2024-02-08T15:08:09.628718",
     "exception": false,
     "start_time": "2024-02-08T15:08:09.617290",
     "status": "completed"
    },
    "tags": []
   },
   "source": [
    "# 🌶️ Question 5\n",
    "\n",
    "You own an online shop where you sell rings with custom engravings.  You offer both gold plated and solid gold rings.\n",
    "- Gold plated rings have a base cost of \\\\$50, and you charge \\\\$7 per engraved unit.  \n",
    "- Solid gold rings have a base cost of \\\\$100, and you charge \\\\$10 per engraved unit.\n",
    "- Spaces and punctuation are counted as engraved units.\n",
    "\n",
    "Write a function `cost_of_project()` that takes two arguments:\n",
    "- `engraving` - a Python string with the text of the engraving\n",
    "- `solid_gold` - a Boolean that indicates whether the ring is solid gold\n",
    "\n",
    "It should return the cost of the project.  This question should be fairly challenging, and you may need a hint."
   ]
  },
  {
   "cell_type": "code",
   "execution_count": 11,
   "id": "683ebf08",
   "metadata": {
    "execution": {
     "iopub.execute_input": "2024-02-08T15:08:09.653254Z",
     "iopub.status.busy": "2024-02-08T15:08:09.652768Z",
     "iopub.status.idle": "2024-02-08T15:08:09.664384Z",
     "shell.execute_reply": "2024-02-08T15:08:09.663048Z"
    },
    "papermill": {
     "duration": 0.027283,
     "end_time": "2024-02-08T15:08:09.667364",
     "exception": false,
     "start_time": "2024-02-08T15:08:09.640081",
     "status": "completed"
    },
    "tags": []
   },
   "outputs": [
    {
     "data": {
      "application/javascript": [
       "parent.postMessage({\"jupyterEvent\": \"custom.exercise_interaction\", \"data\": {\"outcomeType\": 1, \"valueTowardsCompletion\": 0.2, \"interactionType\": 1, \"questionType\": 2, \"questionId\": \"5_CustomEngravings\", \"learnToolsVersion\": \"0.3.4\", \"failureMessage\": \"\", \"exceptionClass\": \"\", \"trace\": \"\"}}, \"*\")"
      ],
      "text/plain": [
       "<IPython.core.display.Javascript object>"
      ]
     },
     "metadata": {},
     "output_type": "display_data"
    },
    {
     "data": {
      "text/markdown": [
       "<span style=\"color:#33cc33\">Correct</span>"
      ],
      "text/plain": [
       "Correct"
      ]
     },
     "metadata": {},
     "output_type": "display_data"
    }
   ],
   "source": [
    "def cost_of_project(engraving, solid_gold):\n",
    "    if solid_gold == True:\n",
    "        cost = (len(engraving) * 10) + 100\n",
    "    else:\n",
    "        cost = (len(engraving) * 7) + 50\n",
    "    return cost\n",
    "\n",
    "# Check your answer\n",
    "q5.check()"
   ]
  },
  {
   "cell_type": "code",
   "execution_count": 12,
   "id": "359c614b",
   "metadata": {
    "execution": {
     "iopub.execute_input": "2024-02-08T15:08:09.694029Z",
     "iopub.status.busy": "2024-02-08T15:08:09.693587Z",
     "iopub.status.idle": "2024-02-08T15:08:09.702967Z",
     "shell.execute_reply": "2024-02-08T15:08:09.701964Z"
    },
    "papermill": {
     "duration": 0.025548,
     "end_time": "2024-02-08T15:08:09.705243",
     "exception": false,
     "start_time": "2024-02-08T15:08:09.679695",
     "status": "completed"
    },
    "tags": []
   },
   "outputs": [
    {
     "data": {
      "application/javascript": [
       "parent.postMessage({\"jupyterEvent\": \"custom.exercise_interaction\", \"data\": {\"interactionType\": 3, \"questionType\": 2, \"questionId\": \"5_CustomEngravings\", \"learnToolsVersion\": \"0.3.4\", \"valueTowardsCompletion\": 0.0, \"failureMessage\": \"\", \"exceptionClass\": \"\", \"trace\": \"\", \"outcomeType\": 4}}, \"*\")"
      ],
      "text/plain": [
       "<IPython.core.display.Javascript object>"
      ]
     },
     "metadata": {},
     "output_type": "display_data"
    },
    {
     "data": {
      "text/markdown": [
       "<span style=\"color:#33cc99\">Solution:</span> \n",
       "```python\n",
       "def cost_of_project(engraving, solid_gold):\n",
       "    cost = solid_gold * (100 + 10 * len(engraving)) + (not solid_gold) * (50 + 7 * len(engraving))\n",
       "    return cost\n",
       "\n",
       "```"
      ],
      "text/plain": [
       "Solution: \n",
       "```python\n",
       "def cost_of_project(engraving, solid_gold):\n",
       "    cost = solid_gold * (100 + 10 * len(engraving)) + (not solid_gold) * (50 + 7 * len(engraving))\n",
       "    return cost\n",
       "\n",
       "```"
      ]
     },
     "metadata": {},
     "output_type": "display_data"
    }
   ],
   "source": [
    "# Uncomment to see a hint\n",
    "#q5.hint()\n",
    "\n",
    "# Uncomment to view the solution\n",
    "q5.solution()"
   ]
  },
  {
   "cell_type": "markdown",
   "id": "5a2723d5",
   "metadata": {
    "papermill": {
     "duration": 0.011525,
     "end_time": "2024-02-08T15:08:09.729153",
     "exception": false,
     "start_time": "2024-02-08T15:08:09.717628",
     "status": "completed"
    },
    "tags": []
   },
   "source": [
    "Run the next code cell to calculate the cost of engraving `Charlie+Denver` on a solid gold ring."
   ]
  },
  {
   "cell_type": "code",
   "execution_count": 13,
   "id": "4dbeb954",
   "metadata": {
    "execution": {
     "iopub.execute_input": "2024-02-08T15:08:09.755361Z",
     "iopub.status.busy": "2024-02-08T15:08:09.754895Z",
     "iopub.status.idle": "2024-02-08T15:08:09.761219Z",
     "shell.execute_reply": "2024-02-08T15:08:09.759991Z"
    },
    "papermill": {
     "duration": 0.022281,
     "end_time": "2024-02-08T15:08:09.763637",
     "exception": false,
     "start_time": "2024-02-08T15:08:09.741356",
     "status": "completed"
    },
    "tags": []
   },
   "outputs": [
    {
     "name": "stdout",
     "output_type": "stream",
     "text": [
      "240\n"
     ]
    }
   ],
   "source": [
    "project_one = cost_of_project(\"Charlie+Denver\", True)\n",
    "print(project_one)"
   ]
  },
  {
   "cell_type": "markdown",
   "id": "4cd03b30",
   "metadata": {
    "papermill": {
     "duration": 0.012393,
     "end_time": "2024-02-08T15:08:09.788379",
     "exception": false,
     "start_time": "2024-02-08T15:08:09.775986",
     "status": "completed"
    },
    "tags": []
   },
   "source": [
    "Use the next code cell to calculate the cost of engraving `08/10/2000` on a gold plated ring."
   ]
  },
  {
   "cell_type": "code",
   "execution_count": 14,
   "id": "43912069",
   "metadata": {
    "execution": {
     "iopub.execute_input": "2024-02-08T15:08:09.815504Z",
     "iopub.status.busy": "2024-02-08T15:08:09.815017Z",
     "iopub.status.idle": "2024-02-08T15:08:09.821209Z",
     "shell.execute_reply": "2024-02-08T15:08:09.819981Z"
    },
    "papermill": {
     "duration": 0.022772,
     "end_time": "2024-02-08T15:08:09.823871",
     "exception": false,
     "start_time": "2024-02-08T15:08:09.801099",
     "status": "completed"
    },
    "tags": []
   },
   "outputs": [
    {
     "name": "stdout",
     "output_type": "stream",
     "text": [
      "120\n"
     ]
    }
   ],
   "source": [
    "project_two = cost_of_project(\"08/10/2000\", False)\n",
    "print(project_two)"
   ]
  },
  {
   "cell_type": "markdown",
   "id": "ea478aa0",
   "metadata": {
    "papermill": {
     "duration": 0.012202,
     "end_time": "2024-02-08T15:08:09.848609",
     "exception": false,
     "start_time": "2024-02-08T15:08:09.836407",
     "status": "completed"
    },
    "tags": []
   },
   "source": [
    "# Keep going\n",
    "\n",
    "Continue to the next lesson to **[learn about conditions and conditional statements](https://www.kaggle.com/alexisbcook/conditions-and-conditional-statements)**."
   ]
  },
  {
   "cell_type": "markdown",
   "id": "2006186a",
   "metadata": {
    "papermill": {
     "duration": 0.011795,
     "end_time": "2024-02-08T15:08:09.872756",
     "exception": false,
     "start_time": "2024-02-08T15:08:09.860961",
     "status": "completed"
    },
    "tags": []
   },
   "source": [
    "---\n",
    "\n",
    "\n",
    "\n",
    "\n",
    "*Have questions or comments? Visit the [course discussion forum](https://www.kaggle.com/learn/intro-to-programming/discussion) to chat with other learners.*"
   ]
  }
 ],
 "metadata": {
  "kaggle": {
   "accelerator": "none",
   "dataSources": [],
   "isGpuEnabled": false,
   "isInternetEnabled": false,
   "language": "python",
   "sourceType": "notebook"
  },
  "kernelspec": {
   "display_name": "Python 3",
   "language": "python",
   "name": "python3"
  },
  "language_info": {
   "codemirror_mode": {
    "name": "ipython",
    "version": 3
   },
   "file_extension": ".py",
   "mimetype": "text/x-python",
   "name": "python",
   "nbconvert_exporter": "python",
   "pygments_lexer": "ipython3",
   "version": "3.10.13"
  },
  "papermill": {
   "default_parameters": {},
   "duration": 5.936044,
   "end_time": "2024-02-08T15:08:10.407283",
   "environment_variables": {},
   "exception": null,
   "input_path": "__notebook__.ipynb",
   "output_path": "__notebook__.ipynb",
   "parameters": {},
   "start_time": "2024-02-08T15:08:04.471239",
   "version": "2.3.3"
  }
 },
 "nbformat": 4,
 "nbformat_minor": 5
}
