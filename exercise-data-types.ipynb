{
 "cells": [
  {
   "cell_type": "markdown",
   "id": "256e93f9",
   "metadata": {
    "papermill": {
     "duration": 0.00673,
     "end_time": "2024-02-08T16:41:29.871107",
     "exception": false,
     "start_time": "2024-02-08T16:41:29.864377",
     "status": "completed"
    },
    "tags": []
   },
   "source": [
    "**This notebook is an exercise in the [Intro to Programming](https://www.kaggle.com/learn/intro-to-programming) course.  You can reference the tutorial at [this link](https://www.kaggle.com/alexisbcook/data-types).**\n",
    "\n",
    "---\n"
   ]
  },
  {
   "cell_type": "markdown",
   "id": "7e4d311a",
   "metadata": {
    "papermill": {
     "duration": 0.005451,
     "end_time": "2024-02-08T16:41:29.883508",
     "exception": false,
     "start_time": "2024-02-08T16:41:29.878057",
     "status": "completed"
    },
    "tags": []
   },
   "source": [
    "In the tutorial, you learned about four different data types: floats, integers, strings, and booleans.  In this exercise, you'll experiment with them.\n",
    "\n",
    "# Set up the notebook\n",
    "\n",
    "Run the next code cell without changes to set up the notebook."
   ]
  },
  {
   "cell_type": "code",
   "execution_count": 1,
   "id": "8574a3d8",
   "metadata": {
    "execution": {
     "iopub.execute_input": "2024-02-08T16:41:29.896688Z",
     "iopub.status.busy": "2024-02-08T16:41:29.896061Z",
     "iopub.status.idle": "2024-02-08T16:41:30.983380Z",
     "shell.execute_reply": "2024-02-08T16:41:30.981832Z"
    },
    "papermill": {
     "duration": 1.096671,
     "end_time": "2024-02-08T16:41:30.985765",
     "exception": false,
     "start_time": "2024-02-08T16:41:29.889094",
     "status": "completed"
    },
    "tags": []
   },
   "outputs": [
    {
     "name": "stdout",
     "output_type": "stream",
     "text": [
      "Setup complete.\n"
     ]
    }
   ],
   "source": [
    "# Set up the exercise\n",
    "from learntools.core import binder\n",
    "import math\n",
    "binder.bind(globals())\n",
    "from learntools.intro_to_programming.ex3 import *\n",
    "print('Setup complete.')"
   ]
  },
  {
   "cell_type": "markdown",
   "id": "6b067007",
   "metadata": {
    "papermill": {
     "duration": 0.005153,
     "end_time": "2024-02-08T16:41:30.996739",
     "exception": false,
     "start_time": "2024-02-08T16:41:30.991586",
     "status": "completed"
    },
    "tags": []
   },
   "source": [
    "# Question 1\n",
    "\n",
    "You have seen how to convert a float to an integer with the `int` function.  Try this out yourself by running the code cell below."
   ]
  },
  {
   "cell_type": "code",
   "execution_count": 2,
   "id": "87504b44",
   "metadata": {
    "execution": {
     "iopub.execute_input": "2024-02-08T16:41:31.009828Z",
     "iopub.status.busy": "2024-02-08T16:41:31.009209Z",
     "iopub.status.idle": "2024-02-08T16:41:31.015624Z",
     "shell.execute_reply": "2024-02-08T16:41:31.014550Z"
    },
    "papermill": {
     "duration": 0.015869,
     "end_time": "2024-02-08T16:41:31.017909",
     "exception": false,
     "start_time": "2024-02-08T16:41:31.002040",
     "status": "completed"
    },
    "tags": []
   },
   "outputs": [
    {
     "name": "stdout",
     "output_type": "stream",
     "text": [
      "1.0\n",
      "<class 'float'>\n",
      "1\n",
      "<class 'int'>\n"
     ]
    }
   ],
   "source": [
    "# Define a float\n",
    "y = 1.\n",
    "print(y)\n",
    "print(type(y))\n",
    "\n",
    "# Convert float to integer with the int function\n",
    "z = int(y)\n",
    "print(z)\n",
    "print(type(z))"
   ]
  },
  {
   "cell_type": "markdown",
   "id": "f8e0d0be",
   "metadata": {
    "papermill": {
     "duration": 0.005401,
     "end_time": "2024-02-08T16:41:31.029050",
     "exception": false,
     "start_time": "2024-02-08T16:41:31.023649",
     "status": "completed"
    },
    "tags": []
   },
   "source": [
    "In this case, the float you are using has no numbers after the decimal.  \n",
    "- But what happens when you try to convert a float with a fractional part to an integer?  \n",
    "- How does the outcome of the `int` function change for positive and negative numbers?\n",
    "\n",
    "Use the next code cell to investigate and answer these questions.  Feel free to add or remove any lines of code -- it is your workspace!"
   ]
  },
  {
   "cell_type": "code",
   "execution_count": 3,
   "id": "a0800959",
   "metadata": {
    "execution": {
     "iopub.execute_input": "2024-02-08T16:41:31.042363Z",
     "iopub.status.busy": "2024-02-08T16:41:31.041963Z",
     "iopub.status.idle": "2024-02-08T16:41:31.049171Z",
     "shell.execute_reply": "2024-02-08T16:41:31.047715Z"
    },
    "papermill": {
     "duration": 0.016593,
     "end_time": "2024-02-08T16:41:31.051513",
     "exception": false,
     "start_time": "2024-02-08T16:41:31.034920",
     "status": "completed"
    },
    "tags": []
   },
   "outputs": [
    {
     "name": "stdout",
     "output_type": "stream",
     "text": [
      "1.2321\n",
      "1.747\n",
      "-3\n",
      "-2\n"
     ]
    }
   ],
   "source": [
    "# Uncomment and run this code to get started!\n",
    "print(float(1.2321))\n",
    "print(float(1.747))\n",
    "print(math.ceil(int(-3.94535)))\n",
    "print(int(-2.19774))"
   ]
  },
  {
   "cell_type": "markdown",
   "id": "b25ab418",
   "metadata": {
    "papermill": {
     "duration": 0.005676,
     "end_time": "2024-02-08T16:41:31.063147",
     "exception": false,
     "start_time": "2024-02-08T16:41:31.057471",
     "status": "completed"
    },
    "tags": []
   },
   "source": [
    "Once you have an answer, run the code cell below to see the solution.  Viewing the solution will give you credit for answering the problem."
   ]
  },
  {
   "cell_type": "code",
   "execution_count": 4,
   "id": "ac92db6a",
   "metadata": {
    "execution": {
     "iopub.execute_input": "2024-02-08T16:41:31.076856Z",
     "iopub.status.busy": "2024-02-08T16:41:31.076464Z",
     "iopub.status.idle": "2024-02-08T16:41:31.087989Z",
     "shell.execute_reply": "2024-02-08T16:41:31.086360Z"
    },
    "papermill": {
     "duration": 0.021411,
     "end_time": "2024-02-08T16:41:31.090534",
     "exception": false,
     "start_time": "2024-02-08T16:41:31.069123",
     "status": "completed"
    },
    "tags": []
   },
   "outputs": [
    {
     "data": {
      "application/javascript": [
       "parent.postMessage({\"jupyterEvent\": \"custom.exercise_interaction\", \"data\": {\"outcomeType\": 1, \"valueTowardsCompletion\": 0.2, \"interactionType\": 1, \"questionType\": 4, \"questionId\": \"1_FloatToInt\", \"learnToolsVersion\": \"0.3.4\", \"failureMessage\": \"\", \"exceptionClass\": \"\", \"trace\": \"\"}}, \"*\")"
      ],
      "text/plain": [
       "<IPython.core.display.Javascript object>"
      ]
     },
     "metadata": {},
     "output_type": "display_data"
    },
    {
     "data": {
      "text/markdown": [
       "<span style=\"color:#33cc33\">Correct:</span> \n",
       "\n",
       "Negative floats are always rounded UP to the closest integer (for instance, both -1.1 and -1.9 are rounded up to -1). Positive floats are always rounded DOWN to the closest integer (for instance, 2.1 and 2.9 are rounded down to 2)."
      ],
      "text/plain": [
       "Correct: \n",
       "\n",
       "Negative floats are always rounded UP to the closest integer (for instance, both -1.1 and -1.9 are rounded up to -1). Positive floats are always rounded DOWN to the closest integer (for instance, 2.1 and 2.9 are rounded down to 2)."
      ]
     },
     "metadata": {},
     "output_type": "display_data"
    }
   ],
   "source": [
    "# Check your answer (Run this code cell to receive credit!)\n",
    "q1.check()"
   ]
  },
  {
   "cell_type": "markdown",
   "id": "1e90b683",
   "metadata": {
    "papermill": {
     "duration": 0.005806,
     "end_time": "2024-02-08T16:41:31.102738",
     "exception": false,
     "start_time": "2024-02-08T16:41:31.096932",
     "status": "completed"
    },
    "tags": []
   },
   "source": [
    "# Question 2\n",
    "\n",
    "In the tutorial, you learned about booleans (which can take a value of `True` or `False`), in addition to integers, floats, and strings.  For this question, your goal is to determine what happens when you multiply a boolean by any of these data types.  Specifically, \n",
    "- What happens when you multiply an integer or float by `True`?  What happens when you multiply them by `False`?  How does the answer change if the numbers are positive or negative?\n",
    "- What happens when you multiply a string by `True`?  By `False`?\n",
    "\n",
    "Use the next code cell for your investigation. "
   ]
  },
  {
   "cell_type": "code",
   "execution_count": 5,
   "id": "a1227cfe",
   "metadata": {
    "execution": {
     "iopub.execute_input": "2024-02-08T16:41:31.117078Z",
     "iopub.status.busy": "2024-02-08T16:41:31.116676Z",
     "iopub.status.idle": "2024-02-08T16:41:31.123250Z",
     "shell.execute_reply": "2024-02-08T16:41:31.121921Z"
    },
    "papermill": {
     "duration": 0.016087,
     "end_time": "2024-02-08T16:41:31.124990",
     "exception": false,
     "start_time": "2024-02-08T16:41:31.108903",
     "status": "completed"
    },
    "tags": []
   },
   "outputs": [
    {
     "name": "stdout",
     "output_type": "stream",
     "text": [
      "3\n",
      "-3.1\n",
      "<class 'str'>\n",
      "0\n"
     ]
    }
   ],
   "source": [
    "# Uncomment and run this code to get started!\n",
    "print(3 * True)\n",
    "print(-3.1 * True)\n",
    "print(type(\"abc\" * False))\n",
    "print(len(\"abc\" * False))"
   ]
  },
  {
   "cell_type": "markdown",
   "id": "1963f120",
   "metadata": {
    "papermill": {
     "duration": 0.006338,
     "end_time": "2024-02-08T16:41:31.138618",
     "exception": false,
     "start_time": "2024-02-08T16:41:31.132280",
     "status": "completed"
    },
    "tags": []
   },
   "source": [
    "Once you have an answer, run the code cell below to see the solution.  Viewing the solution will give you credit for answering the problem."
   ]
  },
  {
   "cell_type": "code",
   "execution_count": 6,
   "id": "ca351f52",
   "metadata": {
    "execution": {
     "iopub.execute_input": "2024-02-08T16:41:31.151950Z",
     "iopub.status.busy": "2024-02-08T16:41:31.151550Z",
     "iopub.status.idle": "2024-02-08T16:41:31.158677Z",
     "shell.execute_reply": "2024-02-08T16:41:31.157844Z"
    },
    "papermill": {
     "duration": 0.016082,
     "end_time": "2024-02-08T16:41:31.160385",
     "exception": false,
     "start_time": "2024-02-08T16:41:31.144303",
     "status": "completed"
    },
    "tags": []
   },
   "outputs": [
    {
     "data": {
      "application/javascript": [
       "parent.postMessage({\"jupyterEvent\": \"custom.exercise_interaction\", \"data\": {\"outcomeType\": 1, \"valueTowardsCompletion\": 0.2, \"interactionType\": 1, \"questionType\": 4, \"questionId\": \"2_MultiplyBooleans\", \"learnToolsVersion\": \"0.3.4\", \"failureMessage\": \"\", \"exceptionClass\": \"\", \"trace\": \"\"}}, \"*\")"
      ],
      "text/plain": [
       "<IPython.core.display.Javascript object>"
      ]
     },
     "metadata": {},
     "output_type": "display_data"
    },
    {
     "data": {
      "text/markdown": [
       "<span style=\"color:#33cc33\">Correct:</span> \n",
       "\n",
       "When you multiple an integer or float by a boolean with value `True`, it just returns that same integer or float (and is equivalent to multiplying by 1).  If you multiply an integer or float by a boolean with value `False`, it always returns 0.  This is true for both positive and negative numbers.  If you multiply a string by a boolean with value `True`, it just returns that same string.  And if you multiply a string by a boolean with value `False`, it returns an empty string (or a string with length zero)."
      ],
      "text/plain": [
       "Correct: \n",
       "\n",
       "When you multiple an integer or float by a boolean with value `True`, it just returns that same integer or float (and is equivalent to multiplying by 1).  If you multiply an integer or float by a boolean with value `False`, it always returns 0.  This is true for both positive and negative numbers.  If you multiply a string by a boolean with value `True`, it just returns that same string.  And if you multiply a string by a boolean with value `False`, it returns an empty string (or a string with length zero)."
      ]
     },
     "metadata": {},
     "output_type": "display_data"
    }
   ],
   "source": [
    "# Check your answer (Run this code cell to receive credit!)\n",
    "q2.check()"
   ]
  },
  {
   "cell_type": "markdown",
   "id": "9d435cf4",
   "metadata": {
    "papermill": {
     "duration": 0.006034,
     "end_time": "2024-02-08T16:41:31.173136",
     "exception": false,
     "start_time": "2024-02-08T16:41:31.167102",
     "status": "completed"
    },
    "tags": []
   },
   "source": [
    "# Question 3\n",
    "\n",
    "In this question, you will build off your work from the previous exercise to write a function that estimates the value of a house.\n",
    "\n",
    "Use the next code cell to create a function `get_expected_cost` that takes as input three variables:\n",
    "- `beds` - number of bedrooms (data type float)\n",
    "- `baths` - number of bathrooms (data type float)\n",
    "- `has_basement` - whether or not the house has a basement (data type boolean)\n",
    "\n",
    "It should return the expected cost of a house with those characteristics. Assume that:\n",
    "- the expected cost for a house with 0 bedrooms and 0 bathrooms, and no basement is 80000, \n",
    "- each bedroom adds 30000 to the expected cost,\n",
    "- each bathroom adds 10000 to the expected cost, and\n",
    "- a basement adds 40000 to the expected cost.\n",
    "\n",
    "For instance,\n",
    "- a house with 1 bedroom, 1 bathroom, and no basement has an expected cost of 80000 + 30000 + 10000 = 120000.  This value will be calculated with `get_expected_cost(1, 1, False)`.\n",
    "- a house with 2 bedrooms, 1 bathroom, and a basement has an expected cost of 80000 + 2*30000 + 10000 + 40000 = 190000.  This value will be calculated with `get_expected_cost(2, 1, True)`.\n",
    "\n",
    "Remember you can always get a hint by uncommenting `q3.hint()` in the code cell following the next!"
   ]
  },
  {
   "cell_type": "code",
   "execution_count": 7,
   "id": "a2e41597",
   "metadata": {
    "execution": {
     "iopub.execute_input": "2024-02-08T16:41:31.188100Z",
     "iopub.status.busy": "2024-02-08T16:41:31.187656Z",
     "iopub.status.idle": "2024-02-08T16:41:31.197449Z",
     "shell.execute_reply": "2024-02-08T16:41:31.196297Z"
    },
    "papermill": {
     "duration": 0.020529,
     "end_time": "2024-02-08T16:41:31.200133",
     "exception": false,
     "start_time": "2024-02-08T16:41:31.179604",
     "status": "completed"
    },
    "tags": []
   },
   "outputs": [
    {
     "data": {
      "application/javascript": [
       "parent.postMessage({\"jupyterEvent\": \"custom.exercise_interaction\", \"data\": {\"outcomeType\": 1, \"valueTowardsCompletion\": 0.2, \"interactionType\": 1, \"questionType\": 2, \"questionId\": \"3_EstimateHouseValueBool\", \"learnToolsVersion\": \"0.3.4\", \"failureMessage\": \"\", \"exceptionClass\": \"\", \"trace\": \"\"}}, \"*\")"
      ],
      "text/plain": [
       "<IPython.core.display.Javascript object>"
      ]
     },
     "metadata": {},
     "output_type": "display_data"
    },
    {
     "data": {
      "text/markdown": [
       "<span style=\"color:#33cc33\">Correct</span>"
      ],
      "text/plain": [
       "Correct"
      ]
     },
     "metadata": {},
     "output_type": "display_data"
    }
   ],
   "source": [
    "# TODO: Complete the function\n",
    "def get_expected_cost(beds, baths, has_basement):\n",
    "    \n",
    "    value = 80000 + float(beds*30000 + baths*10000) + (has_basement * 40000)\n",
    "    return value\n",
    "\n",
    "# Check your answer \n",
    "q3.check()"
   ]
  },
  {
   "cell_type": "code",
   "execution_count": 8,
   "id": "130bb7e2",
   "metadata": {
    "execution": {
     "iopub.execute_input": "2024-02-08T16:41:31.216282Z",
     "iopub.status.busy": "2024-02-08T16:41:31.215844Z",
     "iopub.status.idle": "2024-02-08T16:41:31.223568Z",
     "shell.execute_reply": "2024-02-08T16:41:31.222853Z"
    },
    "papermill": {
     "duration": 0.018614,
     "end_time": "2024-02-08T16:41:31.226355",
     "exception": false,
     "start_time": "2024-02-08T16:41:31.207741",
     "status": "completed"
    },
    "tags": []
   },
   "outputs": [
    {
     "data": {
      "application/javascript": [
       "parent.postMessage({\"jupyterEvent\": \"custom.exercise_interaction\", \"data\": {\"interactionType\": 2, \"questionType\": 2, \"questionId\": \"3_EstimateHouseValueBool\", \"learnToolsVersion\": \"0.3.4\", \"valueTowardsCompletion\": 0.0, \"failureMessage\": \"\", \"exceptionClass\": \"\", \"trace\": \"\", \"outcomeType\": 4}}, \"*\")"
      ],
      "text/plain": [
       "<IPython.core.display.Javascript object>"
      ]
     },
     "metadata": {},
     "output_type": "display_data"
    },
    {
     "data": {
      "text/markdown": [
       "<span style=\"color:#3366cc\">Hint:</span> The variable `has_basement` is either `True` or `False`.  What happens when you multiply it by 40000 (the value of a basement)?  Refer to the previous question if you are unsure."
      ],
      "text/plain": [
       "Hint: The variable `has_basement` is either `True` or `False`.  What happens when you multiply it by 40000 (the value of a basement)?  Refer to the previous question if you are unsure."
      ]
     },
     "metadata": {},
     "output_type": "display_data"
    }
   ],
   "source": [
    "# Uncomment to see a hint\n",
    "q3.hint()\n",
    "\n",
    "# Uncomment to view the solution\n",
    "#q3.solution()"
   ]
  },
  {
   "cell_type": "markdown",
   "id": "a9b6d48a",
   "metadata": {
    "papermill": {
     "duration": 0.007933,
     "end_time": "2024-02-08T16:41:31.242520",
     "exception": false,
     "start_time": "2024-02-08T16:41:31.234587",
     "status": "completed"
    },
    "tags": []
   },
   "source": [
    "# Question 4\n",
    "\n",
    "We'll continue our study of boolean arithmetic.  For this question, your task is to provide a description of what happpens when you add booleans. \n",
    "\n",
    "Use the next code cell for your investigation.  Feel free to add or remove any lines of code - use it as your workspace!"
   ]
  },
  {
   "cell_type": "code",
   "execution_count": 9,
   "id": "872ce65d",
   "metadata": {
    "execution": {
     "iopub.execute_input": "2024-02-08T16:41:31.257894Z",
     "iopub.status.busy": "2024-02-08T16:41:31.257517Z",
     "iopub.status.idle": "2024-02-08T16:41:31.263723Z",
     "shell.execute_reply": "2024-02-08T16:41:31.262839Z"
    },
    "papermill": {
     "duration": 0.016487,
     "end_time": "2024-02-08T16:41:31.265950",
     "exception": false,
     "start_time": "2024-02-08T16:41:31.249463",
     "status": "completed"
    },
    "tags": []
   },
   "outputs": [
    {
     "name": "stdout",
     "output_type": "stream",
     "text": [
      "0\n",
      "1\n",
      "1\n",
      "2\n",
      "3\n"
     ]
    }
   ],
   "source": [
    "print(False + False)\n",
    "print(True + False)\n",
    "print(False + True)\n",
    "print(True + True)\n",
    "print(False + True + True + True)"
   ]
  },
  {
   "cell_type": "markdown",
   "id": "8bab6ec0",
   "metadata": {
    "papermill": {
     "duration": 0.007121,
     "end_time": "2024-02-08T16:41:31.280565",
     "exception": false,
     "start_time": "2024-02-08T16:41:31.273444",
     "status": "completed"
    },
    "tags": []
   },
   "source": [
    "Once you have an answer, run the code cell below to see the solution.  Viewing the solution will give you credit for answering the problem."
   ]
  },
  {
   "cell_type": "code",
   "execution_count": 10,
   "id": "63a9c05e",
   "metadata": {
    "execution": {
     "iopub.execute_input": "2024-02-08T16:41:31.299537Z",
     "iopub.status.busy": "2024-02-08T16:41:31.298778Z",
     "iopub.status.idle": "2024-02-08T16:41:31.309761Z",
     "shell.execute_reply": "2024-02-08T16:41:31.308155Z"
    },
    "papermill": {
     "duration": 0.024234,
     "end_time": "2024-02-08T16:41:31.312434",
     "exception": false,
     "start_time": "2024-02-08T16:41:31.288200",
     "status": "completed"
    },
    "tags": []
   },
   "outputs": [
    {
     "data": {
      "application/javascript": [
       "parent.postMessage({\"jupyterEvent\": \"custom.exercise_interaction\", \"data\": {\"outcomeType\": 1, \"valueTowardsCompletion\": 0.2, \"interactionType\": 1, \"questionType\": 4, \"questionId\": \"4_AddingBooleans\", \"learnToolsVersion\": \"0.3.4\", \"failureMessage\": \"\", \"exceptionClass\": \"\", \"trace\": \"\"}}, \"*\")"
      ],
      "text/plain": [
       "<IPython.core.display.Javascript object>"
      ]
     },
     "metadata": {},
     "output_type": "display_data"
    },
    {
     "data": {
      "text/markdown": [
       "<span style=\"color:#33cc33\">Correct:</span> \n",
       "\n",
       "When you add booleans, adding `False` is equivalent to adding 0, and adding `True` is equivalent to adding 1."
      ],
      "text/plain": [
       "Correct: \n",
       "\n",
       "When you add booleans, adding `False` is equivalent to adding 0, and adding `True` is equivalent to adding 1."
      ]
     },
     "metadata": {},
     "output_type": "display_data"
    }
   ],
   "source": [
    "# Check your answer (Run this code cell to receive credit!)\n",
    "q4.check()"
   ]
  },
  {
   "cell_type": "markdown",
   "id": "c20acf69",
   "metadata": {
    "papermill": {
     "duration": 0.007251,
     "end_time": "2024-02-08T16:41:31.328127",
     "exception": false,
     "start_time": "2024-02-08T16:41:31.320876",
     "status": "completed"
    },
    "tags": []
   },
   "source": [
    "# 🌶️ Question 5\n",
    "\n",
    "You own an online shop where you sell rings with custom engravings.  You offer both gold plated and solid gold rings.\n",
    "- Gold plated rings have a base cost of \\\\$50, and you charge \\\\$7 per engraved unit.  \n",
    "- Solid gold rings have a base cost of \\\\$100, and you charge \\\\$10 per engraved unit.\n",
    "- Spaces and punctuation are counted as engraved units.\n",
    "\n",
    "Write a function `cost_of_project()` that takes two arguments:\n",
    "- `engraving` - a Python string with the text of the engraving\n",
    "- `solid_gold` - a Boolean that indicates whether the ring is solid gold\n",
    "\n",
    "It should return the cost of the project.  This question should be fairly challenging, and you may need a hint."
   ]
  },
  {
   "cell_type": "code",
   "execution_count": 11,
   "id": "ac97760c",
   "metadata": {
    "execution": {
     "iopub.execute_input": "2024-02-08T16:41:31.344630Z",
     "iopub.status.busy": "2024-02-08T16:41:31.344288Z",
     "iopub.status.idle": "2024-02-08T16:41:31.354662Z",
     "shell.execute_reply": "2024-02-08T16:41:31.353281Z"
    },
    "papermill": {
     "duration": 0.021057,
     "end_time": "2024-02-08T16:41:31.356547",
     "exception": false,
     "start_time": "2024-02-08T16:41:31.335490",
     "status": "completed"
    },
    "tags": []
   },
   "outputs": [
    {
     "data": {
      "application/javascript": [
       "parent.postMessage({\"jupyterEvent\": \"custom.exercise_interaction\", \"data\": {\"outcomeType\": 1, \"valueTowardsCompletion\": 0.2, \"interactionType\": 1, \"questionType\": 2, \"questionId\": \"5_CustomEngravings\", \"learnToolsVersion\": \"0.3.4\", \"failureMessage\": \"\", \"exceptionClass\": \"\", \"trace\": \"\"}}, \"*\")"
      ],
      "text/plain": [
       "<IPython.core.display.Javascript object>"
      ]
     },
     "metadata": {},
     "output_type": "display_data"
    },
    {
     "data": {
      "text/markdown": [
       "<span style=\"color:#33cc33\">Correct</span>"
      ],
      "text/plain": [
       "Correct"
      ]
     },
     "metadata": {},
     "output_type": "display_data"
    }
   ],
   "source": [
    "def cost_of_project(engraving, solid_gold):\n",
    "    if solid_gold == True:\n",
    "        cost = (len(engraving) * 10) + 100\n",
    "    else:\n",
    "        cost = (len(engraving) * 7) + 50\n",
    "    return cost\n",
    "\n",
    "# Check your answer\n",
    "q5.check()"
   ]
  },
  {
   "cell_type": "code",
   "execution_count": 12,
   "id": "f59369ae",
   "metadata": {
    "execution": {
     "iopub.execute_input": "2024-02-08T16:41:31.373576Z",
     "iopub.status.busy": "2024-02-08T16:41:31.373151Z",
     "iopub.status.idle": "2024-02-08T16:41:31.378998Z",
     "shell.execute_reply": "2024-02-08T16:41:31.377403Z"
    },
    "papermill": {
     "duration": 0.016888,
     "end_time": "2024-02-08T16:41:31.380935",
     "exception": false,
     "start_time": "2024-02-08T16:41:31.364047",
     "status": "completed"
    },
    "tags": []
   },
   "outputs": [],
   "source": [
    "# Uncomment to see a hint\n",
    "#q5.hint()\n",
    "\n",
    "# Uncomment to view the solution\n",
    "# q5.solution()"
   ]
  },
  {
   "cell_type": "markdown",
   "id": "d2333d90",
   "metadata": {
    "papermill": {
     "duration": 0.007532,
     "end_time": "2024-02-08T16:41:31.396039",
     "exception": false,
     "start_time": "2024-02-08T16:41:31.388507",
     "status": "completed"
    },
    "tags": []
   },
   "source": [
    "Run the next code cell to calculate the cost of engraving `Charlie+Denver` on a solid gold ring."
   ]
  },
  {
   "cell_type": "code",
   "execution_count": 13,
   "id": "a0db5883",
   "metadata": {
    "execution": {
     "iopub.execute_input": "2024-02-08T16:41:31.412215Z",
     "iopub.status.busy": "2024-02-08T16:41:31.411814Z",
     "iopub.status.idle": "2024-02-08T16:41:31.416579Z",
     "shell.execute_reply": "2024-02-08T16:41:31.415671Z"
    },
    "papermill": {
     "duration": 0.015092,
     "end_time": "2024-02-08T16:41:31.418460",
     "exception": false,
     "start_time": "2024-02-08T16:41:31.403368",
     "status": "completed"
    },
    "tags": []
   },
   "outputs": [
    {
     "name": "stdout",
     "output_type": "stream",
     "text": [
      "240\n"
     ]
    }
   ],
   "source": [
    "project_one = cost_of_project(\"Charlie+Denver\", True)\n",
    "print(project_one)"
   ]
  },
  {
   "cell_type": "markdown",
   "id": "7210bf22",
   "metadata": {
    "papermill": {
     "duration": 0.00719,
     "end_time": "2024-02-08T16:41:31.433082",
     "exception": false,
     "start_time": "2024-02-08T16:41:31.425892",
     "status": "completed"
    },
    "tags": []
   },
   "source": [
    "Use the next code cell to calculate the cost of engraving `08/10/2000` on a gold plated ring."
   ]
  },
  {
   "cell_type": "code",
   "execution_count": 14,
   "id": "d7447771",
   "metadata": {
    "execution": {
     "iopub.execute_input": "2024-02-08T16:41:31.449585Z",
     "iopub.status.busy": "2024-02-08T16:41:31.449211Z",
     "iopub.status.idle": "2024-02-08T16:41:31.454131Z",
     "shell.execute_reply": "2024-02-08T16:41:31.453386Z"
    },
    "papermill": {
     "duration": 0.015291,
     "end_time": "2024-02-08T16:41:31.455987",
     "exception": false,
     "start_time": "2024-02-08T16:41:31.440696",
     "status": "completed"
    },
    "tags": []
   },
   "outputs": [
    {
     "name": "stdout",
     "output_type": "stream",
     "text": [
      "120\n"
     ]
    }
   ],
   "source": [
    "project_two = cost_of_project(\"08/10/2000\", False)\n",
    "print(project_two)"
   ]
  },
  {
   "cell_type": "markdown",
   "id": "85ac8e53",
   "metadata": {
    "papermill": {
     "duration": 0.007021,
     "end_time": "2024-02-08T16:41:31.470643",
     "exception": false,
     "start_time": "2024-02-08T16:41:31.463622",
     "status": "completed"
    },
    "tags": []
   },
   "source": [
    "# Keep going\n",
    "\n",
    "Continue to the next lesson to **[learn about conditions and conditional statements](https://www.kaggle.com/alexisbcook/conditions-and-conditional-statements)**."
   ]
  },
  {
   "cell_type": "markdown",
   "id": "a13008c3",
   "metadata": {
    "papermill": {
     "duration": 0.006986,
     "end_time": "2024-02-08T16:41:31.484807",
     "exception": false,
     "start_time": "2024-02-08T16:41:31.477821",
     "status": "completed"
    },
    "tags": []
   },
   "source": [
    "---\n",
    "\n",
    "\n",
    "\n",
    "\n",
    "*Have questions or comments? Visit the [course discussion forum](https://www.kaggle.com/learn/intro-to-programming/discussion) to chat with other learners.*"
   ]
  }
 ],
 "metadata": {
  "kaggle": {
   "accelerator": "none",
   "dataSources": [],
   "isGpuEnabled": false,
   "isInternetEnabled": false,
   "language": "python",
   "sourceType": "notebook"
  },
  "kernelspec": {
   "display_name": "Python 3",
   "language": "python",
   "name": "python3"
  },
  "language_info": {
   "codemirror_mode": {
    "name": "ipython",
    "version": 3
   },
   "file_extension": ".py",
   "mimetype": "text/x-python",
   "name": "python",
   "nbconvert_exporter": "python",
   "pygments_lexer": "ipython3",
   "version": "3.10.13"
  },
  "papermill": {
   "default_parameters": {},
   "duration": 4.71176,
   "end_time": "2024-02-08T16:41:31.912625",
   "environment_variables": {},
   "exception": null,
   "input_path": "__notebook__.ipynb",
   "output_path": "__notebook__.ipynb",
   "parameters": {},
   "start_time": "2024-02-08T16:41:27.200865",
   "version": "2.3.3"
  }
 },
 "nbformat": 4,
 "nbformat_minor": 5
}
